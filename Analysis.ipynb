{
 "cells": [
  {
   "cell_type": "markdown",
   "id": "d792ae5e-b994-4d0c-877b-e2a676a82fb1",
   "metadata": {
    "execution": {
     "iopub.execute_input": "2022-04-30T23:43:40.314762Z",
     "iopub.status.busy": "2022-04-30T23:43:40.314508Z",
     "iopub.status.idle": "2022-04-30T23:43:40.570367Z",
     "shell.execute_reply": "2022-04-30T23:43:40.568917Z",
     "shell.execute_reply.started": "2022-04-30T23:43:40.314735Z"
    }
   },
   "source": [
    "# Analysis of Yelp Business Intelligence Data\n",
    "To analyze a subset of Yelp's business, reviews and user data. \n",
    "### Hojin Lee"
   ]
  },
  {
   "cell_type": "markdown",
   "id": "2fb287eb-16ae-43b3-a989-3224c0dded26",
   "metadata": {},
   "source": [
    "# Installation and Initial Setup"
   ]
  },
  {
   "cell_type": "code",
   "execution_count": 1,
   "id": "398377a6-3f3f-4088-9a57-a81165763630",
   "metadata": {
    "execution": {
     "iopub.execute_input": "2022-04-30T23:25:08.236387Z",
     "iopub.status.busy": "2022-04-30T23:25:08.236064Z",
     "iopub.status.idle": "2022-04-30T23:25:08.846684Z",
     "shell.execute_reply": "2022-04-30T23:25:08.845920Z",
     "shell.execute_reply.started": "2022-04-30T23:25:08.236348Z"
    }
   },
   "outputs": [
    {
     "data": {
      "text/html": [
       "Current session configs: <tt>{'conf': {'spark.pyspark.python': 'python3', 'spark.pyspark.virtualenv.enabled': 'true', 'spark.pyspark.virtualenv.type': 'native', 'spark.pyspark.virtualenv.bin.path': '/usr/bin/virtualenv'}, 'kind': 'pyspark'}</tt><br>"
      ],
      "text/plain": [
       "<IPython.core.display.HTML object>"
      ]
     },
     "metadata": {},
     "output_type": "display_data"
    },
    {
     "data": {
      "text/html": [
       "No active sessions."
      ],
      "text/plain": [
       "<IPython.core.display.HTML object>"
      ]
     },
     "metadata": {},
     "output_type": "display_data"
    }
   ],
   "source": [
    "%%info"
   ]
  },
  {
   "cell_type": "code",
   "execution_count": 2,
   "id": "a605695d-7841-4d38-a2bc-e3f46a484382",
   "metadata": {
    "execution": {
     "iopub.execute_input": "2022-04-30T23:25:10.740990Z",
     "iopub.status.busy": "2022-04-30T23:25:10.740702Z",
     "iopub.status.idle": "2022-04-30T23:26:24.818464Z",
     "shell.execute_reply": "2022-04-30T23:26:24.817327Z",
     "shell.execute_reply.started": "2022-04-30T23:25:10.740958Z"
    }
   },
   "outputs": [
    {
     "data": {
      "application/vnd.jupyter.widget-view+json": {
       "model_id": "61c1e912cb6a4556b3669e5b4617cfee",
       "version_major": 2,
       "version_minor": 0
      },
      "text/plain": [
       "VBox()"
      ]
     },
     "metadata": {},
     "output_type": "display_data"
    },
    {
     "name": "stdout",
     "output_type": "stream",
     "text": [
      "Starting Spark application\n"
     ]
    },
    {
     "data": {
      "text/html": [
       "<table>\n",
       "<tr><th>ID</th><th>YARN Application ID</th><th>Kind</th><th>State</th><th>Spark UI</th><th>Driver log</th><th>Current session?</th></tr><tr><td>0</td><td>application_1651360500865_0001</td><td>pyspark</td><td>idle</td><td><a target=\"_blank\" href=\"http://ip-172-31-45-79.us-east-2.compute.internal:20888/proxy/application_1651360500865_0001/\">Link</a></td><td><a target=\"_blank\" href=\"http://ip-172-31-38-243.us-east-2.compute.internal:8042/node/containerlogs/container_1651360500865_0001_01_000001/livy\">Link</a></td><td>✔</td></tr></table>"
      ],
      "text/plain": [
       "<IPython.core.display.HTML object>"
      ]
     },
     "metadata": {},
     "output_type": "display_data"
    },
    {
     "data": {
      "application/vnd.jupyter.widget-view+json": {
       "model_id": "",
       "version_major": 2,
       "version_minor": 0
      },
      "text/plain": [
       "FloatProgress(value=0.0, bar_style='info', description='Progress:', layout=Layout(height='25px', width='50%'),…"
      ]
     },
     "metadata": {},
     "output_type": "display_data"
    },
    {
     "name": "stdout",
     "output_type": "stream",
     "text": [
      "SparkSession available as 'spark'.\n"
     ]
    },
    {
     "data": {
      "application/vnd.jupyter.widget-view+json": {
       "model_id": "",
       "version_major": 2,
       "version_minor": 0
      },
      "text/plain": [
       "FloatProgress(value=0.0, bar_style='info', description='Progress:', layout=Layout(height='25px', width='50%'),…"
      ]
     },
     "metadata": {},
     "output_type": "display_data"
    },
    {
     "name": "stdout",
     "output_type": "stream",
     "text": [
      "Collecting matplotlib==3.2.1\n",
      "  Downloading https://files.pythonhosted.org/packages/b2/c2/71fcf957710f3ba1f09088b35776a799ba7dd95f7c2b195ec800933b276b/matplotlib-3.2.1-cp37-cp37m-manylinux1_x86_64.whl (12.4MB)\n",
      "Collecting python-dateutil>=2.1 (from matplotlib==3.2.1)\n",
      "  Downloading https://files.pythonhosted.org/packages/36/7a/87837f39d0296e723bb9b62bbb257d0355c7f6128853c78955f57342a56d/python_dateutil-2.8.2-py2.py3-none-any.whl (247kB)\n",
      "Collecting pyparsing!=2.0.4,!=2.1.2,!=2.1.6,>=2.0.1 (from matplotlib==3.2.1)\n",
      "  Downloading https://files.pythonhosted.org/packages/d9/41/d9cfb4410589805cd787f8a82cddd13142d9bf7449d12adf2d05a4a7d633/pyparsing-3.0.8-py3-none-any.whl (98kB)\n",
      "Collecting cycler>=0.10 (from matplotlib==3.2.1)\n",
      "  Downloading https://files.pythonhosted.org/packages/5c/f9/695d6bedebd747e5eb0fe8fad57b72fdf25411273a39791cde838d5a8f51/cycler-0.11.0-py3-none-any.whl\n",
      "Requirement already satisfied: numpy>=1.11 in /usr/local/lib64/python3.7/site-packages (from matplotlib==3.2.1)\n",
      "Collecting kiwisolver>=1.0.1 (from matplotlib==3.2.1)\n",
      "  Downloading https://files.pythonhosted.org/packages/51/50/9a9a94afa26c50fc5d9127272737806990aa698c7a1c220b8e5075e70304/kiwisolver-1.4.2-cp37-cp37m-manylinux_2_5_x86_64.manylinux1_x86_64.whl (1.1MB)\n",
      "Requirement already satisfied: six>=1.5 in /usr/local/lib/python3.7/site-packages (from python-dateutil>=2.1->matplotlib==3.2.1)\n",
      "Collecting typing-extensions; python_version < \"3.8\" (from kiwisolver>=1.0.1->matplotlib==3.2.1)\n",
      "  Downloading https://files.pythonhosted.org/packages/75/e1/932e06004039dd670c9d5e1df0cd606bf46e29a28e65d5bb28e894ea29c9/typing_extensions-4.2.0-py3-none-any.whl\n",
      "Installing collected packages: python-dateutil, pyparsing, cycler, typing-extensions, kiwisolver, matplotlib\n",
      "Successfully installed cycler-0.11.0 kiwisolver-1.4.2 matplotlib-3.2.1 pyparsing-3.0.8 python-dateutil-2.8.2 typing-extensions-4.2.0\n",
      "\n",
      "Collecting pandas==1.0.3\n",
      "  Downloading https://files.pythonhosted.org/packages/4a/6a/94b219b8ea0f2d580169e85ed1edc0163743f55aaeca8a44c2e8fc1e344e/pandas-1.0.3-cp37-cp37m-manylinux1_x86_64.whl (10.0MB)\n",
      "Requirement already satisfied: pytz>=2017.2 in /usr/local/lib/python3.7/site-packages (from pandas==1.0.3)\n",
      "Requirement already satisfied: numpy>=1.13.3 in /usr/local/lib64/python3.7/site-packages (from pandas==1.0.3)\n",
      "Requirement already satisfied: python-dateutil>=2.6.1 in /mnt/tmp/1651361137380-0/lib/python3.7/site-packages (from pandas==1.0.3)\n",
      "Requirement already satisfied: six>=1.5 in /usr/local/lib/python3.7/site-packages (from python-dateutil>=2.6.1->pandas==1.0.3)\n",
      "Installing collected packages: pandas\n",
      "Successfully installed pandas-1.0.3\n",
      "\n",
      "Collecting scipy==1.7.1\n",
      "  Downloading https://files.pythonhosted.org/packages/b5/6b/8bc0b61ebf824f8c3979a31368bbe38dd247590049a994ab0ed077cb56dc/scipy-1.7.1-cp37-cp37m-manylinux_2_5_x86_64.manylinux1_x86_64.whl (28.5MB)\n",
      "Requirement already satisfied: numpy<1.23.0,>=1.16.5 in /usr/local/lib64/python3.7/site-packages (from scipy==1.7.1)\n",
      "Installing collected packages: scipy\n",
      "Successfully installed scipy-1.7.1\n",
      "\n",
      "Collecting seaborn==0.11.2\n",
      "  Downloading https://files.pythonhosted.org/packages/10/5b/0479d7d845b5ba410ca702ffcd7f2cd95a14a4dfff1fde2637802b258b9b/seaborn-0.11.2-py3-none-any.whl (292kB)\n",
      "Requirement already satisfied: numpy>=1.15 in /usr/local/lib64/python3.7/site-packages (from seaborn==0.11.2)\n",
      "Requirement already satisfied: scipy>=1.0 in /mnt/tmp/1651361137380-0/lib/python3.7/site-packages (from seaborn==0.11.2)\n",
      "Requirement already satisfied: matplotlib>=2.2 in /mnt/tmp/1651361137380-0/lib/python3.7/site-packages (from seaborn==0.11.2)\n",
      "Requirement already satisfied: pandas>=0.23 in /mnt/tmp/1651361137380-0/lib/python3.7/site-packages (from seaborn==0.11.2)\n",
      "Requirement already satisfied: python-dateutil>=2.1 in /mnt/tmp/1651361137380-0/lib/python3.7/site-packages (from matplotlib>=2.2->seaborn==0.11.2)\n",
      "Requirement already satisfied: pyparsing!=2.0.4,!=2.1.2,!=2.1.6,>=2.0.1 in /mnt/tmp/1651361137380-0/lib/python3.7/site-packages (from matplotlib>=2.2->seaborn==0.11.2)\n",
      "Requirement already satisfied: cycler>=0.10 in /mnt/tmp/1651361137380-0/lib/python3.7/site-packages (from matplotlib>=2.2->seaborn==0.11.2)\n",
      "Requirement already satisfied: kiwisolver>=1.0.1 in /mnt/tmp/1651361137380-0/lib/python3.7/site-packages (from matplotlib>=2.2->seaborn==0.11.2)\n",
      "Requirement already satisfied: pytz>=2017.2 in /usr/local/lib/python3.7/site-packages (from pandas>=0.23->seaborn==0.11.2)\n",
      "Requirement already satisfied: six>=1.5 in /usr/local/lib/python3.7/site-packages (from python-dateutil>=2.1->matplotlib>=2.2->seaborn==0.11.2)\n",
      "Requirement already satisfied: typing-extensions; python_version < \"3.8\" in /mnt/tmp/1651361137380-0/lib/python3.7/site-packages (from kiwisolver>=1.0.1->matplotlib>=2.2->seaborn==0.11.2)\n",
      "Installing collected packages: seaborn\n",
      "Successfully installed seaborn-0.11.2"
     ]
    }
   ],
   "source": [
    "sc.install_pypi_package(\"matplotlib==3.2.1\")\n",
    "sc.install_pypi_package(\"pandas==1.0.3\")\n",
    "sc.install_pypi_package(\"scipy==1.7.1\")\n",
    "sc.install_pypi_package(\"seaborn==0.11.2\")"
   ]
  },
  {
   "cell_type": "markdown",
   "id": "59ccaa3d-dc01-4b7e-a70c-c4f0e5c773a8",
   "metadata": {},
   "source": [
    "# Importing"
   ]
  },
  {
   "cell_type": "code",
   "execution_count": 3,
   "id": "d593a418-f4bd-482e-9cef-616e2e842a1b",
   "metadata": {
    "execution": {
     "iopub.execute_input": "2022-04-30T23:26:40.284849Z",
     "iopub.status.busy": "2022-04-30T23:26:40.284534Z",
     "iopub.status.idle": "2022-04-30T23:26:43.900800Z",
     "shell.execute_reply": "2022-04-30T23:26:43.899739Z",
     "shell.execute_reply.started": "2022-04-30T23:26:40.284816Z"
    }
   },
   "outputs": [
    {
     "data": {
      "application/vnd.jupyter.widget-view+json": {
       "model_id": "3cca94fea3f7489a98473f88af948801",
       "version_major": 2,
       "version_minor": 0
      },
      "text/plain": [
       "VBox()"
      ]
     },
     "metadata": {},
     "output_type": "display_data"
    },
    {
     "data": {
      "application/vnd.jupyter.widget-view+json": {
       "model_id": "",
       "version_major": 2,
       "version_minor": 0
      },
      "text/plain": [
       "FloatProgress(value=0.0, bar_style='info', description='Progress:', layout=Layout(height='25px', width='50%'),…"
      ]
     },
     "metadata": {},
     "output_type": "display_data"
    }
   ],
   "source": [
    "from pyspark import SparkContext, SparkConf\n",
    "from pyspark.sql.functions import split, col, explode\n",
    "import pandas as pd\n",
    "import numpy as np\n",
    "import seaborn as sns\n",
    "import matplotlib.pyplot as plt"
   ]
  },
  {
   "cell_type": "markdown",
   "id": "a2635447-4486-4baf-9b85-d5465e8114f3",
   "metadata": {},
   "source": [
    "# Loading data"
   ]
  },
  {
   "cell_type": "code",
   "execution_count": 4,
   "id": "1e4dc4e2-7f6f-41af-909e-c2dd8968d7d7",
   "metadata": {
    "execution": {
     "iopub.execute_input": "2022-04-30T23:28:02.773420Z",
     "iopub.status.busy": "2022-04-30T23:28:02.773160Z",
     "iopub.status.idle": "2022-04-30T23:28:18.697054Z",
     "shell.execute_reply": "2022-04-30T23:28:18.696144Z",
     "shell.execute_reply.started": "2022-04-30T23:28:02.773392Z"
    }
   },
   "outputs": [
    {
     "data": {
      "application/vnd.jupyter.widget-view+json": {
       "model_id": "c13bd9a3f85b4367a975a65a951178df",
       "version_major": 2,
       "version_minor": 0
      },
      "text/plain": [
       "VBox()"
      ]
     },
     "metadata": {},
     "output_type": "display_data"
    },
    {
     "data": {
      "application/vnd.jupyter.widget-view+json": {
       "model_id": "",
       "version_major": 2,
       "version_minor": 0
      },
      "text/plain": [
       "FloatProgress(value=0.0, bar_style='info', description='Progress:', layout=Layout(height='25px', width='50%'),…"
      ]
     },
     "metadata": {},
     "output_type": "display_data"
    }
   ],
   "source": [
    "business = spark.read.json('s3://cis9760-yelpbucket/yelp_academic_dataset_business.json')"
   ]
  },
  {
   "cell_type": "code",
   "execution_count": 5,
   "id": "2d3850c1-4190-4ff4-b55f-71c27f2b11a5",
   "metadata": {
    "execution": {
     "iopub.execute_input": "2022-04-30T23:28:18.701389Z",
     "iopub.status.busy": "2022-04-30T23:28:18.698394Z",
     "iopub.status.idle": "2022-04-30T23:28:20.246912Z",
     "shell.execute_reply": "2022-04-30T23:28:20.245885Z",
     "shell.execute_reply.started": "2022-04-30T23:28:18.701336Z"
    }
   },
   "outputs": [
    {
     "data": {
      "application/vnd.jupyter.widget-view+json": {
       "model_id": "879ed18bfceb47ae96a91e3da4a8874e",
       "version_major": 2,
       "version_minor": 0
      },
      "text/plain": [
       "VBox()"
      ]
     },
     "metadata": {},
     "output_type": "display_data"
    },
    {
     "data": {
      "application/vnd.jupyter.widget-view+json": {
       "model_id": "",
       "version_major": 2,
       "version_minor": 0
      },
      "text/plain": [
       "FloatProgress(value=0.0, bar_style='info', description='Progress:', layout=Layout(height='25px', width='50%'),…"
      ]
     },
     "metadata": {},
     "output_type": "display_data"
    },
    {
     "name": "stdout",
     "output_type": "stream",
     "text": [
      "+--------------------+--------------------+--------------------+--------------------+-------------+--------------------+-------+----------+------------+--------------------+-----------+------------+-----+-----+\n",
      "|             address|          attributes|         business_id|          categories|         city|               hours|is_open|  latitude|   longitude|                name|postal_code|review_count|stars|state|\n",
      "+--------------------+--------------------+--------------------+--------------------+-------------+--------------------+-------+----------+------------+--------------------+-----------+------------+-----+-----+\n",
      "|1616 Chapala St, ...|[,,,,,,,,,,, True...|Pns2l4eNsfO8kk83d...|Doctors, Traditio...|Santa Barbara|                null|      0|34.4266787|-119.7111968|Abby Rappoport, L...|      93101|           7|  5.0|   CA|\n",
      "|87 Grasso Plaza S...|[,,,,,,,,, True,,...|mpf3x-BjTdTEA3yCZ...|Shipping Centers,...|       Affton|[8:0-18:30, 0:0-0...|      1| 38.551126|  -90.335695|       The UPS Store|      63123|          15|  3.0|   MO|\n",
      "|5255 E Broadway Blvd|[,,,,,,, True,, T...|tUFrWirKiKi_TAnsV...|Department Stores...|       Tucson|[8:0-23:0, 8:0-22...|      0| 32.223236| -110.880452|              Target|      85711|          22|  3.5|   AZ|\n",
      "|         935 Race St|[,, u'none',,,,, ...|MTSW4McQd7CbVtyjq...|Restaurants, Food...| Philadelphia|[7:0-21:0, 7:0-20...|      1|39.9555052| -75.1555641|  St Honore Pastries|      19107|          80|  4.0|   PA|\n",
      "|       101 Walnut St|[,,,,,,, True,, T...|mWMc6_wTdE0EUBKIG...|Brewpubs, Breweri...|   Green Lane|[12:0-22:0,, 12:0...|      1|40.3381827| -75.4716585|Perkiomen Valley ...|      18054|          13|  4.5|   PA|\n",
      "+--------------------+--------------------+--------------------+--------------------+-------------+--------------------+-------+----------+------------+--------------------+-----------+------------+-----+-----+\n",
      "only showing top 5 rows"
     ]
    }
   ],
   "source": [
    "business.show(5)"
   ]
  },
  {
   "cell_type": "markdown",
   "id": "c8b7c0c5-1040-4869-8a7d-dd965dc796db",
   "metadata": {},
   "source": [
    "# Overview of Data"
   ]
  },
  {
   "cell_type": "code",
   "execution_count": 6,
   "id": "e0258f24-70c4-43db-a617-9b0eefdc6c08",
   "metadata": {
    "execution": {
     "iopub.execute_input": "2022-04-30T23:28:20.251821Z",
     "iopub.status.busy": "2022-04-30T23:28:20.251113Z",
     "iopub.status.idle": "2022-04-30T23:28:23.249140Z",
     "shell.execute_reply": "2022-04-30T23:28:23.248164Z",
     "shell.execute_reply.started": "2022-04-30T23:28:20.251775Z"
    }
   },
   "outputs": [
    {
     "data": {
      "application/vnd.jupyter.widget-view+json": {
       "model_id": "08aead630f43498ea085c6479028dc3c",
       "version_major": 2,
       "version_minor": 0
      },
      "text/plain": [
       "VBox()"
      ]
     },
     "metadata": {},
     "output_type": "display_data"
    },
    {
     "data": {
      "application/vnd.jupyter.widget-view+json": {
       "model_id": "",
       "version_major": 2,
       "version_minor": 0
      },
      "text/plain": [
       "FloatProgress(value=0.0, bar_style='info', description='Progress:', layout=Layout(height='25px', width='50%'),…"
      ]
     },
     "metadata": {},
     "output_type": "display_data"
    },
    {
     "name": "stdout",
     "output_type": "stream",
     "text": [
      "Number of columns in Business table: 14\n",
      "Number of rows in Business table: 150346"
     ]
    }
   ],
   "source": [
    "row = business.count()\n",
    "col = len(business.columns)\n",
    "print(f'Number of columns in Business table: {col}')\n",
    "print(f'Number of rows in Business table: {row}')"
   ]
  },
  {
   "cell_type": "code",
   "execution_count": 7,
   "id": "bbd3b695-254b-495b-83ab-8ebaac81a804",
   "metadata": {
    "execution": {
     "iopub.execute_input": "2022-04-30T23:28:23.256208Z",
     "iopub.status.busy": "2022-04-30T23:28:23.252988Z",
     "iopub.status.idle": "2022-04-30T23:28:24.148036Z",
     "shell.execute_reply": "2022-04-30T23:28:24.146976Z",
     "shell.execute_reply.started": "2022-04-30T23:28:23.256123Z"
    }
   },
   "outputs": [
    {
     "data": {
      "application/vnd.jupyter.widget-view+json": {
       "model_id": "38761d74c83540fcb67074c2e84b1665",
       "version_major": 2,
       "version_minor": 0
      },
      "text/plain": [
       "VBox()"
      ]
     },
     "metadata": {},
     "output_type": "display_data"
    },
    {
     "data": {
      "application/vnd.jupyter.widget-view+json": {
       "model_id": "",
       "version_major": 2,
       "version_minor": 0
      },
      "text/plain": [
       "FloatProgress(value=0.0, bar_style='info', description='Progress:', layout=Layout(height='25px', width='50%'),…"
      ]
     },
     "metadata": {},
     "output_type": "display_data"
    },
    {
     "name": "stdout",
     "output_type": "stream",
     "text": [
      "+--------------------+--------------------+-------------+-----+--------------------+\n",
      "|         business_id|                name|         city|state|          categories|\n",
      "+--------------------+--------------------+-------------+-----+--------------------+\n",
      "|Pns2l4eNsfO8kk83d...|Abby Rappoport, L...|Santa Barbara|   CA|Doctors, Traditio...|\n",
      "|mpf3x-BjTdTEA3yCZ...|       The UPS Store|       Affton|   MO|Shipping Centers,...|\n",
      "|tUFrWirKiKi_TAnsV...|              Target|       Tucson|   AZ|Department Stores...|\n",
      "|MTSW4McQd7CbVtyjq...|  St Honore Pastries| Philadelphia|   PA|Restaurants, Food...|\n",
      "|mWMc6_wTdE0EUBKIG...|Perkiomen Valley ...|   Green Lane|   PA|Brewpubs, Breweri...|\n",
      "+--------------------+--------------------+-------------+-----+--------------------+\n",
      "only showing top 5 rows"
     ]
    }
   ],
   "source": [
    "busi_selected = business.select(\"business_id\",\n",
    "\"name\",\n",
    "\"city\",\n",
    "\"state\",\n",
    "\"categories\")\n",
    "busi_selected.show(5)"
   ]
  },
  {
   "cell_type": "markdown",
   "id": "4c2aebb2-d31e-4e99-8077-e6abc9f378d1",
   "metadata": {},
   "source": [
    "# Analyzing Categories"
   ]
  },
  {
   "cell_type": "code",
   "execution_count": 8,
   "id": "66497522-be92-43c8-9757-75046106ac6b",
   "metadata": {
    "execution": {
     "iopub.execute_input": "2022-04-30T23:28:24.150597Z",
     "iopub.status.busy": "2022-04-30T23:28:24.150061Z",
     "iopub.status.idle": "2022-04-30T23:28:25.041614Z",
     "shell.execute_reply": "2022-04-30T23:28:25.040765Z",
     "shell.execute_reply.started": "2022-04-30T23:28:24.150554Z"
    }
   },
   "outputs": [
    {
     "data": {
      "application/vnd.jupyter.widget-view+json": {
       "model_id": "ddc20731ea344b16ad87c5e88df81710",
       "version_major": 2,
       "version_minor": 0
      },
      "text/plain": [
       "VBox()"
      ]
     },
     "metadata": {},
     "output_type": "display_data"
    },
    {
     "data": {
      "application/vnd.jupyter.widget-view+json": {
       "model_id": "",
       "version_major": 2,
       "version_minor": 0
      },
      "text/plain": [
       "FloatProgress(value=0.0, bar_style='info', description='Progress:', layout=Layout(height='25px', width='50%'),…"
      ]
     },
     "metadata": {},
     "output_type": "display_data"
    },
    {
     "name": "stdout",
     "output_type": "stream",
     "text": [
      "+--------------------+--------------------+\n",
      "|         business_id|          categories|\n",
      "+--------------------+--------------------+\n",
      "|Pns2l4eNsfO8kk83d...|Doctors, Traditio...|\n",
      "|mpf3x-BjTdTEA3yCZ...|Shipping Centers,...|\n",
      "|tUFrWirKiKi_TAnsV...|Department Stores...|\n",
      "|MTSW4McQd7CbVtyjq...|Restaurants, Food...|\n",
      "|mWMc6_wTdE0EUBKIG...|Brewpubs, Breweri...|\n",
      "+--------------------+--------------------+\n",
      "only showing top 5 rows"
     ]
    }
   ],
   "source": [
    "business.select(\"business_id\", \"categories\").show(5)"
   ]
  },
  {
   "cell_type": "code",
   "execution_count": 9,
   "id": "8032bbdb-1b59-4595-b90e-4149336fac2a",
   "metadata": {
    "execution": {
     "iopub.execute_input": "2022-04-30T23:28:25.054610Z",
     "iopub.status.busy": "2022-04-30T23:28:25.043073Z",
     "iopub.status.idle": "2022-04-30T23:28:26.744762Z",
     "shell.execute_reply": "2022-04-30T23:28:26.743846Z",
     "shell.execute_reply.started": "2022-04-30T23:28:25.054556Z"
    }
   },
   "outputs": [
    {
     "data": {
      "application/vnd.jupyter.widget-view+json": {
       "model_id": "34b22ef405c7400eb4c89f85c8244f50",
       "version_major": 2,
       "version_minor": 0
      },
      "text/plain": [
       "VBox()"
      ]
     },
     "metadata": {},
     "output_type": "display_data"
    },
    {
     "data": {
      "application/vnd.jupyter.widget-view+json": {
       "model_id": "",
       "version_major": 2,
       "version_minor": 0
      },
      "text/plain": [
       "FloatProgress(value=0.0, bar_style='info', description='Progress:', layout=Layout(height='25px', width='50%'),…"
      ]
     },
     "metadata": {},
     "output_type": "display_data"
    },
    {
     "name": "stdout",
     "output_type": "stream",
     "text": [
      "+--------------------+--------------------+\n",
      "|         business_id|          categories|\n",
      "+--------------------+--------------------+\n",
      "|Pns2l4eNsfO8kk83d...|             Doctors|\n",
      "|Pns2l4eNsfO8kk83d...|Traditional Chine...|\n",
      "|Pns2l4eNsfO8kk83d...|Naturopathic/Holi...|\n",
      "|Pns2l4eNsfO8kk83d...|         Acupuncture|\n",
      "|Pns2l4eNsfO8kk83d...|    Health & Medical|\n",
      "+--------------------+--------------------+\n",
      "only showing top 5 rows"
     ]
    }
   ],
   "source": [
    "busi_exploded = business.withColumn('categories', explode(split(\"categories\", \", \")))\n",
    "busi_exploded.select(\"business_id\", \"categories\").show(5)"
   ]
  },
  {
   "cell_type": "markdown",
   "id": "c68ac934-c758-431d-8199-f13a55dfb86a",
   "metadata": {},
   "source": [
    "# Total Unique Categories"
   ]
  },
  {
   "cell_type": "code",
   "execution_count": 10,
   "id": "9d42cb61-9236-4ed0-9ad7-712cea37dae3",
   "metadata": {
    "execution": {
     "iopub.execute_input": "2022-04-30T23:28:26.746084Z",
     "iopub.status.busy": "2022-04-30T23:28:26.745736Z",
     "iopub.status.idle": "2022-04-30T23:28:31.051849Z",
     "shell.execute_reply": "2022-04-30T23:28:31.050994Z",
     "shell.execute_reply.started": "2022-04-30T23:28:26.746045Z"
    }
   },
   "outputs": [
    {
     "data": {
      "application/vnd.jupyter.widget-view+json": {
       "model_id": "8662bbc5bc124757aeab23ba6a5d27fa",
       "version_major": 2,
       "version_minor": 0
      },
      "text/plain": [
       "VBox()"
      ]
     },
     "metadata": {},
     "output_type": "display_data"
    },
    {
     "data": {
      "application/vnd.jupyter.widget-view+json": {
       "model_id": "",
       "version_major": 2,
       "version_minor": 0
      },
      "text/plain": [
       "FloatProgress(value=0.0, bar_style='info', description='Progress:', layout=Layout(height='25px', width='50%'),…"
      ]
     },
     "metadata": {},
     "output_type": "display_data"
    },
    {
     "name": "stdout",
     "output_type": "stream",
     "text": [
      "1311"
     ]
    }
   ],
   "source": [
    "busi_exploded.select(\"categories\").distinct().count()"
   ]
  },
  {
   "cell_type": "markdown",
   "id": "9f252c85-b5ef-4c7d-b877-a0f06b3098ac",
   "metadata": {},
   "source": [
    "## Top Categories By Business\n"
   ]
  },
  {
   "cell_type": "code",
   "execution_count": 11,
   "id": "1a534cb4-241c-461b-b67d-5c7392406e87",
   "metadata": {
    "execution": {
     "iopub.execute_input": "2022-04-30T23:28:31.054726Z",
     "iopub.status.busy": "2022-04-30T23:28:31.054129Z",
     "iopub.status.idle": "2022-04-30T23:28:34.855251Z",
     "shell.execute_reply": "2022-04-30T23:28:34.753589Z",
     "shell.execute_reply.started": "2022-04-30T23:28:31.054684Z"
    }
   },
   "outputs": [
    {
     "data": {
      "application/vnd.jupyter.widget-view+json": {
       "model_id": "0cb57261b42643fe9dbc7fb3ce6ae3a5",
       "version_major": 2,
       "version_minor": 0
      },
      "text/plain": [
       "VBox()"
      ]
     },
     "metadata": {},
     "output_type": "display_data"
    },
    {
     "data": {
      "application/vnd.jupyter.widget-view+json": {
       "model_id": "",
       "version_major": 2,
       "version_minor": 0
      },
      "text/plain": [
       "FloatProgress(value=0.0, bar_style='info', description='Progress:', layout=Layout(height='25px', width='50%'),…"
      ]
     },
     "metadata": {},
     "output_type": "display_data"
    },
    {
     "name": "stdout",
     "output_type": "stream",
     "text": [
      "+--------------------+-----+\n",
      "|          categories|count|\n",
      "+--------------------+-----+\n",
      "|      Dermatologists|  336|\n",
      "|      Paddleboarding|   98|\n",
      "|        Aerial Tours|   12|\n",
      "|Faith-based Crisi...|    1|\n",
      "|         Hobby Shops|  552|\n",
      "|          Bubble Tea|  477|\n",
      "|             Embassy|    3|\n",
      "|            Handyman|  356|\n",
      "|             Tanning|  667|\n",
      "|      Aerial Fitness|   19|\n",
      "|             Falafel|  103|\n",
      "|        Summer Camps|  232|\n",
      "|       Outlet Stores|  182|\n",
      "|     Clothing Rental|   37|\n",
      "|      Sporting Goods| 1662|\n",
      "|     Cooking Schools|   76|\n",
      "|  Lactation Services|   27|\n",
      "|Ski & Snowboard S...|   40|\n",
      "|             Museums|  413|\n",
      "|              Doulas|   31|\n",
      "+--------------------+-----+\n",
      "only showing top 20 rows"
     ]
    }
   ],
   "source": [
    "busi_exploded.createOrReplaceTempView('busi_exploded')\n",
    "spark.sql(\"\"\"\n",
    "SELECT categories, COUNT(categories) as count\n",
    "FROM busi_exploded\n",
    "GROUP BY 1\n",
    "\"\"\").show(20)"
   ]
  },
  {
   "cell_type": "markdown",
   "id": "7635ad88-a2b6-4670-804f-d5ed8bf4cbab",
   "metadata": {},
   "source": [
    "## Bar Chart of Top Categories\n"
   ]
  },
  {
   "cell_type": "code",
   "execution_count": 12,
   "id": "d9873452-dd86-4017-9e27-63bfe73b8c14",
   "metadata": {
    "execution": {
     "iopub.execute_input": "2022-04-30T23:28:34.865502Z",
     "iopub.status.busy": "2022-04-30T23:28:34.865021Z",
     "iopub.status.idle": "2022-04-30T23:28:37.534529Z",
     "shell.execute_reply": "2022-04-30T23:28:37.461382Z",
     "shell.execute_reply.started": "2022-04-30T23:28:34.865460Z"
    }
   },
   "outputs": [
    {
     "data": {
      "application/vnd.jupyter.widget-view+json": {
       "model_id": "d9201618725c4d1a8edfced1dff04091",
       "version_major": 2,
       "version_minor": 0
      },
      "text/plain": [
       "VBox()"
      ]
     },
     "metadata": {},
     "output_type": "display_data"
    },
    {
     "data": {
      "application/vnd.jupyter.widget-view+json": {
       "model_id": "",
       "version_major": 2,
       "version_minor": 0
      },
      "text/plain": [
       "FloatProgress(value=0.0, bar_style='info', description='Progress:', layout=Layout(height='25px', width='50%'),…"
      ]
     },
     "metadata": {},
     "output_type": "display_data"
    },
    {
     "name": "stdout",
     "output_type": "stream",
     "text": [
      "+--------------------+-----+\n",
      "|          categories|count|\n",
      "+--------------------+-----+\n",
      "|         Restaurants|52268|\n",
      "|                Food|27781|\n",
      "|            Shopping|24395|\n",
      "|       Home Services|14356|\n",
      "|       Beauty & Spas|14292|\n",
      "|           Nightlife|12281|\n",
      "|    Health & Medical|11890|\n",
      "|      Local Services|11198|\n",
      "|                Bars|11065|\n",
      "|          Automotive|10773|\n",
      "|Event Planning & ...| 9895|\n",
      "|          Sandwiches| 8366|\n",
      "|American (Traditi...| 8139|\n",
      "|         Active Life| 7687|\n",
      "|               Pizza| 7093|\n",
      "|        Coffee & Tea| 6703|\n",
      "|           Fast Food| 6472|\n",
      "|  Breakfast & Brunch| 6239|\n",
      "|      American (New)| 6097|\n",
      "|     Hotels & Travel| 5857|\n",
      "+--------------------+-----+"
     ]
    }
   ],
   "source": [
    "category_count = spark.sql(\"\"\"\n",
    "SELECT categories, COUNT(categories) as count\n",
    "FROM busi_exploded\n",
    "GROUP BY 1\n",
    "ORDER BY 2 DESC\n",
    "LIMIT 20\n",
    "\"\"\")\n",
    "category_count.show()"
   ]
  },
  {
   "cell_type": "code",
   "execution_count": 21,
   "id": "d08b7586-406b-4c3a-a30d-1b61868ef187",
   "metadata": {
    "execution": {
     "iopub.execute_input": "2022-04-30T23:31:54.606421Z",
     "iopub.status.busy": "2022-04-30T23:31:54.605977Z",
     "iopub.status.idle": "2022-04-30T23:31:57.250601Z",
     "shell.execute_reply": "2022-04-30T23:31:57.249414Z",
     "shell.execute_reply.started": "2022-04-30T23:31:54.606385Z"
    }
   },
   "outputs": [
    {
     "data": {
      "application/vnd.jupyter.widget-view+json": {
       "model_id": "15d82e6d2fe5422f98888bd0d9accf55",
       "version_major": 2,
       "version_minor": 0
      },
      "text/plain": [
       "VBox()"
      ]
     },
     "metadata": {},
     "output_type": "display_data"
    },
    {
     "data": {
      "application/vnd.jupyter.widget-view+json": {
       "model_id": "",
       "version_major": 2,
       "version_minor": 0
      },
      "text/plain": [
       "FloatProgress(value=0.0, bar_style='info', description='Progress:', layout=Layout(height='25px', width='50%'),…"
      ]
     },
     "metadata": {},
     "output_type": "display_data"
    },
    {
     "data": {
      "image/png": "[encoded data removed]",
      "text/plain": [
       "<IPython.core.display.Image object>"
      ]
     },
     "metadata": {},
     "output_type": "display_data"
    }
   ],
   "source": [
    "pdf = category_count.toPandas()\n",
    "plt.figure(figsize=(10,6))\n",
    "pdf.plot(kind='bar', x='categories', figsize=(10,6))\n",
    "plt.title(\"Top 20 categories by business\")\n",
    "%matplot plt"
   ]
  },
  {
   "cell_type": "markdown",
   "id": "53cffb2c-78c8-46b0-9e12-1875c6e78f71",
   "metadata": {},
   "source": [
    "## Loading User Data"
   ]
  },
  {
   "cell_type": "code",
   "execution_count": 13,
   "id": "cc980a21-de6c-4e9a-b5f3-8f769cc752f0",
   "metadata": {
    "execution": {
     "iopub.execute_input": "2022-04-30T23:28:48.967517Z",
     "iopub.status.busy": "2022-04-30T23:28:48.967057Z",
     "iopub.status.idle": "2022-04-30T23:29:08.890787Z",
     "shell.execute_reply": "2022-04-30T23:29:08.889154Z",
     "shell.execute_reply.started": "2022-04-30T23:28:48.967478Z"
    }
   },
   "outputs": [
    {
     "data": {
      "application/vnd.jupyter.widget-view+json": {
       "model_id": "5b16af8f821a4ec99b3bbd2f72adb525",
       "version_major": 2,
       "version_minor": 0
      },
      "text/plain": [
       "VBox()"
      ]
     },
     "metadata": {},
     "output_type": "display_data"
    },
    {
     "data": {
      "application/vnd.jupyter.widget-view+json": {
       "model_id": "",
       "version_major": 2,
       "version_minor": 0
      },
      "text/plain": [
       "FloatProgress(value=0.0, bar_style='info', description='Progress:', layout=Layout(height='25px', width='50%'),…"
      ]
     },
     "metadata": {},
     "output_type": "display_data"
    }
   ],
   "source": [
    "review = spark.read.json('s3://cis9760-yelpbucket/yelp_academic_dataset_review.json')"
   ]
  },
  {
   "cell_type": "code",
   "execution_count": 14,
   "id": "b3142cda-720d-4b79-9c56-8591b6d7b12f",
   "metadata": {
    "execution": {
     "iopub.execute_input": "2022-04-30T23:29:08.893609Z",
     "iopub.status.busy": "2022-04-30T23:29:08.893329Z",
     "iopub.status.idle": "2022-04-30T23:29:09.157322Z",
     "shell.execute_reply": "2022-04-30T23:29:09.156551Z",
     "shell.execute_reply.started": "2022-04-30T23:29:08.893567Z"
    }
   },
   "outputs": [
    {
     "data": {
      "application/vnd.jupyter.widget-view+json": {
       "model_id": "1cb1c08b3b3446779ce136d3483d050a",
       "version_major": 2,
       "version_minor": 0
      },
      "text/plain": [
       "VBox()"
      ]
     },
     "metadata": {},
     "output_type": "display_data"
    },
    {
     "data": {
      "application/vnd.jupyter.widget-view+json": {
       "model_id": "",
       "version_major": 2,
       "version_minor": 0
      },
      "text/plain": [
       "FloatProgress(value=0.0, bar_style='info', description='Progress:', layout=Layout(height='25px', width='50%'),…"
      ]
     },
     "metadata": {},
     "output_type": "display_data"
    },
    {
     "name": "stdout",
     "output_type": "stream",
     "text": [
      "root\n",
      " |-- business_id: string (nullable = true)\n",
      " |-- cool: long (nullable = true)\n",
      " |-- date: string (nullable = true)\n",
      " |-- funny: long (nullable = true)\n",
      " |-- review_id: string (nullable = true)\n",
      " |-- stars: double (nullable = true)\n",
      " |-- text: string (nullable = true)\n",
      " |-- useful: long (nullable = true)\n",
      " |-- user_id: string (nullable = true)"
     ]
    }
   ],
   "source": [
    "review.printSchema()"
   ]
  },
  {
   "cell_type": "code",
   "execution_count": 15,
   "id": "ff0231a3-eb44-4259-bd9d-3b55c7f4e0fb",
   "metadata": {
    "execution": {
     "iopub.execute_input": "2022-04-30T23:29:09.164085Z",
     "iopub.status.busy": "2022-04-30T23:29:09.163838Z",
     "iopub.status.idle": "2022-04-30T23:29:10.203461Z",
     "shell.execute_reply": "2022-04-30T23:29:10.202729Z",
     "shell.execute_reply.started": "2022-04-30T23:29:09.164057Z"
    }
   },
   "outputs": [
    {
     "data": {
      "application/vnd.jupyter.widget-view+json": {
       "model_id": "101ab844a0d6484fad6b517b2469ff74",
       "version_major": 2,
       "version_minor": 0
      },
      "text/plain": [
       "VBox()"
      ]
     },
     "metadata": {},
     "output_type": "display_data"
    },
    {
     "data": {
      "application/vnd.jupyter.widget-view+json": {
       "model_id": "",
       "version_major": 2,
       "version_minor": 0
      },
      "text/plain": [
       "FloatProgress(value=0.0, bar_style='info', description='Progress:', layout=Layout(height='25px', width='50%'),…"
      ]
     },
     "metadata": {},
     "output_type": "display_data"
    },
    {
     "name": "stdout",
     "output_type": "stream",
     "text": [
      "+--------------------+-----+\n",
      "|         business_id|stars|\n",
      "+--------------------+-----+\n",
      "|XQfwVwDr-v0ZS3_Cb...|  3.0|\n",
      "|7ATYjTIgM3jUlt4UM...|  5.0|\n",
      "|YjUWPpI6HXG530lwP...|  3.0|\n",
      "|kxX2SOes4o-D3ZQBk...|  5.0|\n",
      "|e4Vwtrqf-wpJfwesg...|  4.0|\n",
      "+--------------------+-----+\n",
      "only showing top 5 rows"
     ]
    }
   ],
   "source": [
    "review.select(\"business_id\", \"stars\").show(5)"
   ]
  },
  {
   "cell_type": "code",
   "execution_count": 16,
   "id": "70731a29-c09f-4e14-8387-e80b1ea881f0",
   "metadata": {
    "execution": {
     "iopub.execute_input": "2022-04-30T23:29:10.206276Z",
     "iopub.status.busy": "2022-04-30T23:29:10.205175Z",
     "iopub.status.idle": "2022-04-30T23:29:34.281606Z",
     "shell.execute_reply": "2022-04-30T23:29:34.280648Z",
     "shell.execute_reply.started": "2022-04-30T23:29:10.206234Z"
    }
   },
   "outputs": [
    {
     "data": {
      "application/vnd.jupyter.widget-view+json": {
       "model_id": "20a92843d0eb406295502af69bc9a5d9",
       "version_major": 2,
       "version_minor": 0
      },
      "text/plain": [
       "VBox()"
      ]
     },
     "metadata": {},
     "output_type": "display_data"
    },
    {
     "data": {
      "application/vnd.jupyter.widget-view+json": {
       "model_id": "",
       "version_major": 2,
       "version_minor": 0
      },
      "text/plain": [
       "FloatProgress(value=0.0, bar_style='info', description='Progress:', layout=Layout(height='25px', width='50%'),…"
      ]
     },
     "metadata": {},
     "output_type": "display_data"
    },
    {
     "name": "stdout",
     "output_type": "stream",
     "text": [
      "+--------------------+------------------+\n",
      "|         business_id|         avg_stars|\n",
      "+--------------------+------------------+\n",
      "|zJErbOQMKX-MwHs_u...|2.9279279279279278|\n",
      "|RZ-FNTXvqHKngyLGD...|2.8823529411764706|\n",
      "|HSzSGdcNaU7heQe0N...|3.3333333333333335|\n",
      "|skW4boArIApRw9DXK...|2.3947368421052633|\n",
      "|I0053JmJ5DEFUWSJ8...|2.3956043956043955|\n",
      "+--------------------+------------------+\n",
      "only showing top 5 rows"
     ]
    }
   ],
   "source": [
    "review.createOrReplaceTempView('review')\n",
    "review_only = spark.sql(\"\"\"\n",
    "SELECT DISTINCT business_id, avg(stars) as avg_stars\n",
    "FROM review\n",
    "WHERE text IS NOT NULL\n",
    "GROUP BY business_id\n",
    "\"\"\")\n",
    "review_only.show(5)"
   ]
  },
  {
   "cell_type": "code",
   "execution_count": 17,
   "id": "a8561aa3-b3c3-4ea3-bc18-bd634395a480",
   "metadata": {
    "execution": {
     "iopub.execute_input": "2022-04-30T23:29:34.283829Z",
     "iopub.status.busy": "2022-04-30T23:29:34.283252Z",
     "iopub.status.idle": "2022-04-30T23:29:54.353779Z",
     "shell.execute_reply": "2022-04-30T23:29:54.352999Z",
     "shell.execute_reply.started": "2022-04-30T23:29:34.283786Z"
    }
   },
   "outputs": [
    {
     "data": {
      "application/vnd.jupyter.widget-view+json": {
       "model_id": "1ef80f1a41e14f088358e4d913dfe841",
       "version_major": 2,
       "version_minor": 0
      },
      "text/plain": [
       "VBox()"
      ]
     },
     "metadata": {},
     "output_type": "display_data"
    },
    {
     "data": {
      "application/vnd.jupyter.widget-view+json": {
       "model_id": "",
       "version_major": 2,
       "version_minor": 0
      },
      "text/plain": [
       "FloatProgress(value=0.0, bar_style='info', description='Progress:', layout=Layout(height='25px', width='50%'),…"
      ]
     },
     "metadata": {},
     "output_type": "display_data"
    },
    {
     "name": "stdout",
     "output_type": "stream",
     "text": [
      "+--------------------+------------+-----+------------------+-----+\n",
      "|                name|        city|state|         avg_stars|stars|\n",
      "+--------------------+------------+-----+------------------+-----+\n",
      "|Philadelphia Marr...|Philadelphia|   PA|2.9279279279279278|  3.0|\n",
      "|Gaetano's of West...| West Berlin|   NJ|2.8823529411764706|  3.0|\n",
      "|Gillane's Bar & G...|     Ardmore|   PA|3.3333333333333335|  3.0|\n",
      "|Champps Penn's La...|Philadelphia|   PA|2.3947368421052633|  2.5|\n",
      "|Golden Corral Buf...|      Tucson|   AZ|2.3956043956043955|  2.5|\n",
      "+--------------------+------------+-----+------------------+-----+\n",
      "only showing top 5 rows"
     ]
    }
   ],
   "source": [
    "busi_only = business.select(\"business_id\", \"name\", \"city\", \"state\", \"stars\")\n",
    "joined = busi_only.join(review_only, busi_only.business_id == review_only.business_id)\n",
    "selected = joined.select(\"name\", \"city\", \"state\", \"avg_stars\", \"stars\")\n",
    "selected.show(5)"
   ]
  },
  {
   "cell_type": "code",
   "execution_count": 18,
   "id": "475e5216-a347-4c21-aff0-a9a2ee0bf4b8",
   "metadata": {
    "execution": {
     "iopub.execute_input": "2022-04-30T23:30:17.461290Z",
     "iopub.status.busy": "2022-04-30T23:30:17.461037Z",
     "iopub.status.idle": "2022-04-30T23:30:35.363201Z",
     "shell.execute_reply": "2022-04-30T23:30:35.362360Z",
     "shell.execute_reply.started": "2022-04-30T23:30:17.461262Z"
    }
   },
   "outputs": [
    {
     "data": {
      "application/vnd.jupyter.widget-view+json": {
       "model_id": "180a5d70d07b479ca213a5cc6b70c976",
       "version_major": 2,
       "version_minor": 0
      },
      "text/plain": [
       "VBox()"
      ]
     },
     "metadata": {},
     "output_type": "display_data"
    },
    {
     "data": {
      "application/vnd.jupyter.widget-view+json": {
       "model_id": "",
       "version_major": 2,
       "version_minor": 0
      },
      "text/plain": [
       "FloatProgress(value=0.0, bar_style='info', description='Progress:', layout=Layout(height='25px', width='50%'),…"
      ]
     },
     "metadata": {},
     "output_type": "display_data"
    },
    {
     "name": "stdout",
     "output_type": "stream",
     "text": [
      "+--------------------+------------+-----+------------------+-----+--------------------+\n",
      "|                name|        city|state|         avg_stars|stars|                skew|\n",
      "+--------------------+------------+-----+------------------+-----+--------------------+\n",
      "|Gillane's Bar & G...|     Ardmore|   PA|3.3333333333333335|  3.0| 0.11111111111111116|\n",
      "|Champps Penn's La...|Philadelphia|   PA|2.3947368421052633|  2.5|-0.04210526315789469|\n",
      "|Philadelphia Marr...|Philadelphia|   PA|2.9279279279279278|  3.0|-0.02402402402402...|\n",
      "|Golden Corral Buf...|      Tucson|   AZ|2.3956043956043955|  2.5|-0.04175824175824179|\n",
      "|  Swiss Watch Center|       Tampa|   FL| 3.357142857142857|  3.5|-0.04081632653061223|\n",
      "+--------------------+------------+-----+------------------+-----+--------------------+\n",
      "only showing top 5 rows"
     ]
    }
   ],
   "source": [
    "from pyspark.sql import functions as F\n",
    "skew_added = selected.withColumn(\"skew\", F.when(F.isnull((selected.avg_stars-selected.stars)/selected.stars),0).otherwise((selected.avg_stars-selected.stars)/selected.stars))\n",
    "skew_added.show(5)"
   ]
  },
  {
   "cell_type": "code",
   "execution_count": null,
   "id": "00d10b4e-d998-48e9-bd1a-a47f88749c52",
   "metadata": {
    "execution": {
     "iopub.execute_input": "2022-04-30T23:31:11.881863Z",
     "iopub.status.busy": "2022-04-30T23:31:11.881502Z"
    }
   },
   "outputs": [
    {
     "data": {
      "application/vnd.jupyter.widget-view+json": {
       "model_id": "d4008e97e0084749bfa7ac74cb42e0fd",
       "version_major": 2,
       "version_minor": 0
      },
      "text/plain": [
       "VBox()"
      ]
     },
     "metadata": {},
     "output_type": "display_data"
    },
    {
     "data": {
      "application/vnd.jupyter.widget-view+json": {
       "model_id": "",
       "version_major": 2,
       "version_minor": 0
      },
      "text/plain": [
       "FloatProgress(value=0.0, bar_style='info', description='Progress:', layout=Layout(height='25px', width='50%'),…"
      ]
     },
     "metadata": {},
     "output_type": "display_data"
    }
   ],
   "source": [
    "skew_pandas = skew_added.select(\"skew\").toPandas()"
   ]
  },
  {
   "cell_type": "code",
   "execution_count": null,
   "id": "0dce75f6-c31e-4c02-9064-e45da1d065d1",
   "metadata": {
    "execution": {
     "iopub.execute_input": "2022-04-30T23:31:35.898300Z",
     "iopub.status.busy": "2022-04-30T23:31:35.897954Z"
    }
   },
   "outputs": [
    {
     "data": {
      "application/vnd.jupyter.widget-view+json": {
       "model_id": "e9448cd002c84a40ab2b098020ee7919",
       "version_major": 2,
       "version_minor": 0
      },
      "text/plain": [
       "VBox()"
      ]
     },
     "metadata": {},
     "output_type": "display_data"
    },
    {
     "data": {
      "application/vnd.jupyter.widget-view+json": {
       "model_id": "",
       "version_major": 2,
       "version_minor": 0
      },
      "text/plain": [
       "FloatProgress(value=0.0, bar_style='info', description='Progress:', layout=Layout(height='25px', width='50%'),…"
      ]
     },
     "metadata": {},
     "output_type": "display_data"
    },
    {
     "data": {
      "image/png": "[encoded data removed]",
      "text/plain": [
       "<IPython.core.display.Image object>"
      ]
     },
     "metadata": {},
     "output_type": "display_data"
    }
   ],
   "source": [
    "sns.distplot(skew_pandas)\n",
    "plt.xlabel(\"skew\")\n",
    "%matplot plt"
   ]
  },
  {
   "cell_type": "markdown",
   "id": "946a4b0f-8701-4bb4-9b3e-4812b871acf6",
   "metadata": {},
   "source": [
    "### IMPLICATIONS\n",
    "\n",
    "The above graph is close to normal distribution so I would not say that it's negatively skewed. I can interpret that reviewers who left a written response were NOT more dissatisfied than normal."
   ]
  },
  {
   "cell_type": "markdown",
   "id": "c61f6fb3-7654-4fc4-860b-3fd1369eaab7",
   "metadata": {},
   "source": [
    "# Should the Elite be Trusted?\n",
    "\n",
    "How accurate or close are the ratings of an \"elite\" user (check Users table schema) vs the actual business rating?"
   ]
  },
  {
   "cell_type": "code",
   "execution_count": 22,
   "id": "75c40f2b-c144-4693-830a-d18b0ffccb1a",
   "metadata": {
    "execution": {
     "iopub.execute_input": "2022-04-30T23:32:17.526835Z",
     "iopub.status.busy": "2022-04-30T23:32:17.526589Z",
     "iopub.status.idle": "2022-04-30T23:32:29.294359Z",
     "shell.execute_reply": "2022-04-30T23:32:29.293506Z",
     "shell.execute_reply.started": "2022-04-30T23:32:17.526808Z"
    }
   },
   "outputs": [
    {
     "data": {
      "application/vnd.jupyter.widget-view+json": {
       "model_id": "e59c050c8df34870afc814107ffa1ec6",
       "version_major": 2,
       "version_minor": 0
      },
      "text/plain": [
       "VBox()"
      ]
     },
     "metadata": {},
     "output_type": "display_data"
    },
    {
     "data": {
      "application/vnd.jupyter.widget-view+json": {
       "model_id": "",
       "version_major": 2,
       "version_minor": 0
      },
      "text/plain": [
       "FloatProgress(value=0.0, bar_style='info', description='Progress:', layout=Layout(height='25px', width='50%'),…"
      ]
     },
     "metadata": {},
     "output_type": "display_data"
    }
   ],
   "source": [
    "users = spark.read.json('s3://cis9760-yelpbucket/yelp_academic_dataset_user.json')"
   ]
  },
  {
   "cell_type": "code",
   "execution_count": 23,
   "id": "98a0b295-120d-4e94-b972-92274a08cd9e",
   "metadata": {
    "execution": {
     "iopub.execute_input": "2022-04-30T23:32:29.296804Z",
     "iopub.status.busy": "2022-04-30T23:32:29.296531Z",
     "iopub.status.idle": "2022-04-30T23:32:29.562440Z",
     "shell.execute_reply": "2022-04-30T23:32:29.561488Z",
     "shell.execute_reply.started": "2022-04-30T23:32:29.296767Z"
    }
   },
   "outputs": [
    {
     "data": {
      "application/vnd.jupyter.widget-view+json": {
       "model_id": "e95352f5053f43e89032585e6938ee51",
       "version_major": 2,
       "version_minor": 0
      },
      "text/plain": [
       "VBox()"
      ]
     },
     "metadata": {},
     "output_type": "display_data"
    },
    {
     "data": {
      "application/vnd.jupyter.widget-view+json": {
       "model_id": "",
       "version_major": 2,
       "version_minor": 0
      },
      "text/plain": [
       "FloatProgress(value=0.0, bar_style='info', description='Progress:', layout=Layout(height='25px', width='50%'),…"
      ]
     },
     "metadata": {},
     "output_type": "display_data"
    },
    {
     "name": "stdout",
     "output_type": "stream",
     "text": [
      "root\n",
      " |-- average_stars: double (nullable = true)\n",
      " |-- compliment_cool: long (nullable = true)\n",
      " |-- compliment_cute: long (nullable = true)\n",
      " |-- compliment_funny: long (nullable = true)\n",
      " |-- compliment_hot: long (nullable = true)\n",
      " |-- compliment_list: long (nullable = true)\n",
      " |-- compliment_more: long (nullable = true)\n",
      " |-- compliment_note: long (nullable = true)\n",
      " |-- compliment_photos: long (nullable = true)\n",
      " |-- compliment_plain: long (nullable = true)\n",
      " |-- compliment_profile: long (nullable = true)\n",
      " |-- compliment_writer: long (nullable = true)\n",
      " |-- cool: long (nullable = true)\n",
      " |-- elite: string (nullable = true)\n",
      " |-- fans: long (nullable = true)\n",
      " |-- friends: string (nullable = true)\n",
      " |-- funny: long (nullable = true)\n",
      " |-- name: string (nullable = true)\n",
      " |-- review_count: long (nullable = true)\n",
      " |-- useful: long (nullable = true)\n",
      " |-- user_id: string (nullable = true)\n",
      " |-- yelping_since: string (nullable = true)"
     ]
    }
   ],
   "source": [
    "users.printSchema()"
   ]
  },
  {
   "cell_type": "code",
   "execution_count": 24,
   "id": "737ce8b2-7926-4990-bd26-7e08b06af0c3",
   "metadata": {
    "execution": {
     "iopub.execute_input": "2022-04-30T23:33:11.402746Z",
     "iopub.status.busy": "2022-04-30T23:33:11.402496Z",
     "iopub.status.idle": "2022-04-30T23:33:11.883920Z",
     "shell.execute_reply": "2022-04-30T23:33:11.882322Z",
     "shell.execute_reply.started": "2022-04-30T23:33:11.402719Z"
    }
   },
   "outputs": [
    {
     "data": {
      "application/vnd.jupyter.widget-view+json": {
       "model_id": "4e01ef7f74c14886bcdb84a34f53fe10",
       "version_major": 2,
       "version_minor": 0
      },
      "text/plain": [
       "VBox()"
      ]
     },
     "metadata": {},
     "output_type": "display_data"
    },
    {
     "data": {
      "application/vnd.jupyter.widget-view+json": {
       "model_id": "",
       "version_major": 2,
       "version_minor": 0
      },
      "text/plain": [
       "FloatProgress(value=0.0, bar_style='info', description='Progress:', layout=Layout(height='25px', width='50%'),…"
      ]
     },
     "metadata": {},
     "output_type": "display_data"
    }
   ],
   "source": [
    "business = business.withColumnRenamed('stars',\"business_stars\")\n",
    "review = review.withColumnRenamed('stars',\"review_stars\")"
   ]
  },
  {
   "cell_type": "code",
   "execution_count": 25,
   "id": "9894db79-b0f8-43cb-b06a-45a5a9490cdd",
   "metadata": {
    "execution": {
     "iopub.execute_input": "2022-04-30T23:33:13.351216Z",
     "iopub.status.busy": "2022-04-30T23:33:13.350966Z",
     "iopub.status.idle": "2022-04-30T23:33:13.805066Z",
     "shell.execute_reply": "2022-04-30T23:33:13.804219Z",
     "shell.execute_reply.started": "2022-04-30T23:33:13.351188Z"
    }
   },
   "outputs": [
    {
     "data": {
      "application/vnd.jupyter.widget-view+json": {
       "model_id": "15dd961d9d3a4537bfe27002148e4a75",
       "version_major": 2,
       "version_minor": 0
      },
      "text/plain": [
       "VBox()"
      ]
     },
     "metadata": {},
     "output_type": "display_data"
    },
    {
     "data": {
      "application/vnd.jupyter.widget-view+json": {
       "model_id": "",
       "version_major": 2,
       "version_minor": 0
      },
      "text/plain": [
       "FloatProgress(value=0.0, bar_style='info', description='Progress:', layout=Layout(height='25px', width='50%'),…"
      ]
     },
     "metadata": {},
     "output_type": "display_data"
    }
   ],
   "source": [
    "business_only = business.select(\"business_id\", \"business_stars\")\n",
    "review_only = review.select(\"business_id\", \"user_id\", \"review_stars\")\n",
    "users_only = users.select(\"user_id\", \"elite\").filter(users.elite != \"\")"
   ]
  },
  {
   "cell_type": "code",
   "execution_count": 26,
   "id": "76767c51-818c-4a2b-aab9-53cda6f456de",
   "metadata": {
    "execution": {
     "iopub.execute_input": "2022-04-30T23:34:35.483286Z",
     "iopub.status.busy": "2022-04-30T23:34:35.482913Z",
     "iopub.status.idle": "2022-04-30T23:35:15.702567Z",
     "shell.execute_reply": "2022-04-30T23:35:15.701751Z",
     "shell.execute_reply.started": "2022-04-30T23:34:35.483252Z"
    }
   },
   "outputs": [
    {
     "data": {
      "application/vnd.jupyter.widget-view+json": {
       "model_id": "7bb9a211d7ec4aad850d5687c0479f4e",
       "version_major": 2,
       "version_minor": 0
      },
      "text/plain": [
       "VBox()"
      ]
     },
     "metadata": {},
     "output_type": "display_data"
    },
    {
     "data": {
      "application/vnd.jupyter.widget-view+json": {
       "model_id": "",
       "version_major": 2,
       "version_minor": 0
      },
      "text/plain": [
       "FloatProgress(value=0.0, bar_style='info', description='Progress:', layout=Layout(height='25px', width='50%'),…"
      ]
     },
     "metadata": {},
     "output_type": "display_data"
    },
    {
     "name": "stdout",
     "output_type": "stream",
     "text": [
      "+--------------------+--------------+--------------------+--------------------+------------+--------------------+--------------------+\n",
      "|         business_id|business_stars|         business_id|             user_id|review_stars|             user_id|               elite|\n",
      "+--------------------+--------------+--------------------+--------------------+------------+--------------------+--------------------+\n",
      "|TV81bpCQ6p6o4Hau5...|           4.5|TV81bpCQ6p6o4Hau5...|IeSz60ozr1yAVIH8C...|         4.0|IeSz60ozr1yAVIH8C...|2017,2018,2019,20...|\n",
      "|W4ZEKkva9HpAdZG88...|           4.0|W4ZEKkva9HpAdZG88...|xW2A0MciHB0pLB4RH...|         5.0|xW2A0MciHB0pLB4RH...|2014,2015,2016,20...|\n",
      "|E-4t5Hoon6aVFTWDP...|           4.0|E-4t5Hoon6aVFTWDP...|SSafXe2aUO0cXgQhE...|         5.0|SSafXe2aUO0cXgQhE...|2014,2015,2016,20...|\n",
      "|_pbx96FZ3eHJw-V_R...|           2.5|_pbx96FZ3eHJw-V_R...|yiYUEExKfZEv_T8CF...|         3.0|yiYUEExKfZEv_T8CF...|                2015|\n",
      "|8uF-bhJFgT4Tn6DTb...|           4.5|8uF-bhJFgT4Tn6DTb...|A3EiqW7_k00gvaiQi...|         5.0|A3EiqW7_k00gvaiQi...|          2019,20,20|\n",
      "+--------------------+--------------+--------------------+--------------------+------------+--------------------+--------------------+\n",
      "only showing top 5 rows"
     ]
    }
   ],
   "source": [
    "business_review = business_only.join(review_only, business_only.business_id == review_only.business_id)\n",
    "business_review_user = business_review.join(users_only, business_review.user_id == users_only.user_id)\n",
    "business_review_user.show(5)"
   ]
  },
  {
   "cell_type": "code",
   "execution_count": 28,
   "id": "c27f21b3-7ccb-4812-af21-d53bc414ff1d",
   "metadata": {
    "execution": {
     "iopub.execute_input": "2022-04-30T23:36:04.292185Z",
     "iopub.status.busy": "2022-04-30T23:36:04.291814Z",
     "iopub.status.idle": "2022-04-30T23:36:30.217057Z",
     "shell.execute_reply": "2022-04-30T23:36:30.214789Z",
     "shell.execute_reply.started": "2022-04-30T23:36:04.292152Z"
    },
    "tags": []
   },
   "outputs": [
    {
     "data": {
      "application/vnd.jupyter.widget-view+json": {
       "model_id": "ebc53cb2127b48c4b6b1130243ad4adb",
       "version_major": 2,
       "version_minor": 0
      },
      "text/plain": [
       "VBox()"
      ]
     },
     "metadata": {},
     "output_type": "display_data"
    },
    {
     "data": {
      "application/vnd.jupyter.widget-view+json": {
       "model_id": "",
       "version_major": 2,
       "version_minor": 0
      },
      "text/plain": [
       "FloatProgress(value=0.0, bar_style='info', description='Progress:', layout=Layout(height='25px', width='50%'),…"
      ]
     },
     "metadata": {},
     "output_type": "display_data"
    },
    {
     "name": "stdout",
     "output_type": "stream",
     "text": [
      "+--------------+------------+--------------------+\n",
      "|business_stars|review_stars|               elite|\n",
      "+--------------+------------+--------------------+\n",
      "|           4.5|         4.0|2017,2018,2019,20...|\n",
      "|           4.0|         5.0|2014,2015,2016,20...|\n",
      "|           4.0|         5.0|2014,2015,2016,20...|\n",
      "|           2.5|         3.0|                2015|\n",
      "|           4.5|         5.0|          2019,20,20|\n",
      "+--------------+------------+--------------------+\n",
      "only showing top 5 rows"
     ]
    }
   ],
   "source": [
    "business_review_user.select(\"business_stars\", \"review_stars\", \"elite\").show(5)"
   ]
  },
  {
   "cell_type": "code",
   "execution_count": null,
   "id": "582181c0-377d-4d8a-9b00-283cb97e0bdc",
   "metadata": {
    "tags": []
   },
   "outputs": [],
   "source": [
    "diff_added = business_review_user.withColumn(\"difference\", (business_review_user.business_stars - business_review_user.review_stars))"
   ]
  },
  {
   "cell_type": "code",
   "execution_count": 30,
   "id": "3de86789-e6af-4b4c-a3c5-f9c3110d3d75",
   "metadata": {
    "execution": {
     "iopub.execute_input": "2022-04-30T23:39:35.280981Z",
     "iopub.status.busy": "2022-04-30T23:39:35.280733Z",
     "iopub.status.idle": "2022-04-30T23:40:11.465135Z",
     "shell.execute_reply": "2022-04-30T23:40:11.464142Z",
     "shell.execute_reply.started": "2022-04-30T23:39:35.280954Z"
    }
   },
   "outputs": [
    {
     "data": {
      "application/vnd.jupyter.widget-view+json": {
       "model_id": "335e78d6b1b24750981703e0e69148fd",
       "version_major": 2,
       "version_minor": 0
      },
      "text/plain": [
       "VBox()"
      ]
     },
     "metadata": {},
     "output_type": "display_data"
    },
    {
     "data": {
      "application/vnd.jupyter.widget-view+json": {
       "model_id": "",
       "version_major": 2,
       "version_minor": 0
      },
      "text/plain": [
       "FloatProgress(value=0.0, bar_style='info', description='Progress:', layout=Layout(height='25px', width='50%'),…"
      ]
     },
     "metadata": {},
     "output_type": "display_data"
    },
    {
     "name": "stdout",
     "output_type": "stream",
     "text": [
      "+--------------+------------+--------------------+----------+\n",
      "|business_stars|review_stars|               elite|difference|\n",
      "+--------------+------------+--------------------+----------+\n",
      "|           4.5|         4.0|2017,2018,2019,20...|       0.5|\n",
      "|           4.0|         5.0|2014,2015,2016,20...|      -1.0|\n",
      "|           4.0|         5.0|2014,2015,2016,20...|      -1.0|\n",
      "|           2.5|         3.0|                2015|      -0.5|\n",
      "|           4.5|         5.0|          2019,20,20|      -0.5|\n",
      "|           4.5|         4.0|2011,2012,2013,20...|       0.5|\n",
      "|           4.5|         5.0|2018,2019,20,20,2021|      -0.5|\n",
      "|           2.0|         4.0|2012,2013,2014,20...|      -2.0|\n",
      "|           4.0|         5.0|2017,2018,2019,20,20|      -1.0|\n",
      "|           4.0|         4.0|                2015|       0.0|\n",
      "|           3.5|         4.0|2018,2019,20,20,2021|      -0.5|\n",
      "|           4.5|         5.0|           2014,2015|      -0.5|\n",
      "|           3.5|         4.0|           2017,2018|      -0.5|\n",
      "|           4.0|         5.0|2011,2012,2013,20...|      -1.0|\n",
      "|           4.0|         3.0|2018,2019,20,20,2021|       1.0|\n",
      "|           2.5|         3.0| 2006,2007,2008,2010|      -0.5|\n",
      "|           4.0|         5.0|           2017,2018|      -1.0|\n",
      "|           4.0|         4.0|2011,2012,2013,20...|       0.0|\n",
      "|           4.0|         5.0|2011,2012,2013,20...|      -1.0|\n",
      "|           4.5|         4.0|2011,2012,2013,20...|       0.5|\n",
      "+--------------+------------+--------------------+----------+\n",
      "only showing top 20 rows"
     ]
    }
   ],
   "source": [
    "diff_added = diff_added.select(\"business_stars\", \"review_stars\", \"elite\", \"difference\")\n",
    "diff_added.show()"
   ]
  },
  {
   "cell_type": "code",
   "execution_count": 31,
   "id": "f827fa73-8178-405b-8435-0d7c2f3e7001",
   "metadata": {
    "execution": {
     "iopub.execute_input": "2022-04-30T23:40:27.523176Z",
     "iopub.status.busy": "2022-04-30T23:40:27.522863Z",
     "iopub.status.idle": "2022-04-30T23:40:57.618918Z",
     "shell.execute_reply": "2022-04-30T23:40:57.618232Z",
     "shell.execute_reply.started": "2022-04-30T23:40:27.523137Z"
    }
   },
   "outputs": [
    {
     "data": {
      "application/vnd.jupyter.widget-view+json": {
       "model_id": "b6838b3180d84ee5b0995be6f05ab1f7",
       "version_major": 2,
       "version_minor": 0
      },
      "text/plain": [
       "VBox()"
      ]
     },
     "metadata": {},
     "output_type": "display_data"
    },
    {
     "data": {
      "application/vnd.jupyter.widget-view+json": {
       "model_id": "",
       "version_major": 2,
       "version_minor": 0
      },
      "text/plain": [
       "FloatProgress(value=0.0, bar_style='info', description='Progress:', layout=Layout(height='25px', width='50%'),…"
      ]
     },
     "metadata": {},
     "output_type": "display_data"
    }
   ],
   "source": [
    "diff_pandas = diff_added.select(\"difference\").toPandas()"
   ]
  },
  {
   "cell_type": "code",
   "execution_count": 34,
   "id": "80db3254-aeaf-421b-a3e5-1a95b492b8e8",
   "metadata": {
    "execution": {
     "iopub.execute_input": "2022-04-30T23:41:54.465482Z",
     "iopub.status.busy": "2022-04-30T23:41:54.465229Z",
     "iopub.status.idle": "2022-04-30T23:41:54.980230Z",
     "shell.execute_reply": "2022-04-30T23:41:54.979475Z",
     "shell.execute_reply.started": "2022-04-30T23:41:54.465452Z"
    },
    "tags": []
   },
   "outputs": [
    {
     "data": {
      "application/vnd.jupyter.widget-view+json": {
       "model_id": "711d01245a204834b6ece44c6b4dbaf4",
       "version_major": 2,
       "version_minor": 0
      },
      "text/plain": [
       "VBox()"
      ]
     },
     "metadata": {},
     "output_type": "display_data"
    },
    {
     "data": {
      "application/vnd.jupyter.widget-view+json": {
       "model_id": "",
       "version_major": 2,
       "version_minor": 0
      },
      "text/plain": [
       "FloatProgress(value=0.0, bar_style='info', description='Progress:', layout=Layout(height='25px', width='50%'),…"
      ]
     },
     "metadata": {},
     "output_type": "display_data"
    },
    {
     "name": "stdout",
     "output_type": "stream",
     "text": [
      "<matplotlib.axes._subplots.AxesSubplot object at 0x7f64eb41f990>"
     ]
    }
   ],
   "source": [
    "diff_pandas.plot.hist()"
   ]
  },
  {
   "cell_type": "code",
   "execution_count": 35,
   "id": "ecd04f3e-3648-4454-90fc-f1d5f96e1650",
   "metadata": {
    "execution": {
     "iopub.execute_input": "2022-04-30T23:41:55.851520Z",
     "iopub.status.busy": "2022-04-30T23:41:55.851111Z",
     "iopub.status.idle": "2022-04-30T23:41:56.314569Z",
     "shell.execute_reply": "2022-04-30T23:41:56.313234Z",
     "shell.execute_reply.started": "2022-04-30T23:41:55.851480Z"
    },
    "tags": []
   },
   "outputs": [
    {
     "data": {
      "application/vnd.jupyter.widget-view+json": {
       "model_id": "7d276a1ac8ef4724a320a050b02a52ca",
       "version_major": 2,
       "version_minor": 0
      },
      "text/plain": [
       "VBox()"
      ]
     },
     "metadata": {},
     "output_type": "display_data"
    },
    {
     "data": {
      "application/vnd.jupyter.widget-view+json": {
       "model_id": "",
       "version_major": 2,
       "version_minor": 0
      },
      "text/plain": [
       "FloatProgress(value=0.0, bar_style='info', description='Progress:', layout=Layout(height='25px', width='50%'),…"
      ]
     },
     "metadata": {},
     "output_type": "display_data"
    },
    {
     "data": {
      "image/png": "[encoded data removed]",
      "text/plain": [
       "<IPython.core.display.Image object>"
      ]
     },
     "metadata": {},
     "output_type": "display_data"
    }
   ],
   "source": [
    "plt.xlabel('Difference')\n",
    "plt.ylabel('Count')\n",
    "plt.title('Difference of Business Actual Rating and Elite User Rating')\n",
    "%matplot plt"
   ]
  },
  {
   "cell_type": "code",
   "execution_count": null,
   "id": "00db5ede-fccd-4e41-9b31-642580dbfcd7",
   "metadata": {},
   "outputs": [],
   "source": []
  },
  {
   "cell_type": "code",
   "execution_count": null,
   "id": "b5d2fdce-14b6-4a31-b61c-e75dbc56b456",
   "metadata": {},
   "outputs": [],
   "source": []
  },
  {
   "cell_type": "code",
   "execution_count": null,
   "id": "71cb0760-6685-4565-b5cc-4818f1161375",
   "metadata": {},
   "outputs": [],
   "source": []
  }
 ],
 "metadata": {
  "kernelspec": {
   "display_name": "Python 3",
   "language": "python",
   "name": "python3"
  },
  "language_info": {
   "codemirror_mode": {
    "name": "ipython",
    "version": 3
   },
   "file_extension": ".py",
   "mimetype": "text/x-python",
   "name": "python",
   "nbconvert_exporter": "python",
   "pygments_lexer": "ipython3",
   "version": "3.8.2"
  }
 },
 "nbformat": 4,
 "nbformat_minor": 5
}
